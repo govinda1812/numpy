{
 "cells": [
  {
   "cell_type": "markdown",
   "id": "2fd75daf",
   "metadata": {},
   "source": [
    "##Write a function to find moving average in an array over a window:\n",
    "\n",
    "Test it over [3, 5, 7, 2, 8, 10, 11, 65, 72, 81, 99, 100, 150] and window of 3."
   ]
  },
  {
   "cell_type": "code",
   "execution_count": 24,
   "id": "c0ca97f4",
   "metadata": {},
   "outputs": [
    {
     "name": "stdout",
     "output_type": "stream",
     "text": [
      "11\n"
     ]
    }
   ],
   "source": [
    "l2=[]\n",
    "def movavg(l1,win):\n",
    "    for j in range(len(l1)-win+1):\n",
    "        i=j\n",
    "        avg=0\n",
    "        #print(j)\n",
    "        \n",
    "        for i in range(j, win+j):\n",
    "            \n",
    "            \n",
    "            avg+=l1[i]\n",
    "        #print(avg)\n",
    "        l2.append(avg//3)\n",
    "        \n",
    "    return l2 \n",
    "l1=[3, 5, 7, 2, 8, 10, 11, 65, 72, 81, 99, 100, 150] \n",
    "win=3\n",
    "res=[]\n",
    "res=movavg(l1,3)\n",
    "print(len(res))"
   ]
  },
  {
   "cell_type": "code",
   "execution_count": 25,
   "id": "a5898855",
   "metadata": {},
   "outputs": [
    {
     "name": "stdout",
     "output_type": "stream",
     "text": [
      "[[  1   1   1   1   1]\n",
      " [ 16   8   4   2   1]\n",
      " [ 81  27   9   3   1]\n",
      " [256  64  16   4   1]\n",
      " [625 125  25   5   1]]\n"
     ]
    }
   ],
   "source": [
    "import numpy as np\n",
    "x=np.array([1,2,3,4,5])\n",
    "N=5\n",
    "matrix = np.column_stack([x**(N-i-1) for i in range(N)])\n",
    "print(matrix)"
   ]
  },
  {
   "cell_type": "code",
   "execution_count": 26,
   "id": "278d791c",
   "metadata": {},
   "outputs": [
    {
     "name": "stdout",
     "output_type": "stream",
     "text": [
      "[[  1   1   1   1   1]\n",
      " [ 16   8   4   2   1]\n",
      " [ 81  27   9   3   1]\n",
      " [256  64  16   4   1]\n",
      " [625 125  25   5   1]]\n"
     ]
    }
   ],
   "source": [
    "import numpy as np\n",
    "x=np.array([1,2,3,4,5])\n",
    "N=5\n",
    "matrix1 = np.vander(x,N,increasing=False)\n",
    "print(matrix1)"
   ]
  },
  {
   "cell_type": "code",
   "execution_count": 27,
   "id": "318f6d42",
   "metadata": {},
   "outputs": [
    {
     "data": {
      "text/plain": [
       "287.9999999999977"
      ]
     },
     "execution_count": 27,
     "metadata": {},
     "output_type": "execute_result"
    }
   ],
   "source": [
    "np.linalg.det(matrix)"
   ]
  },
  {
   "cell_type": "code",
   "execution_count": 28,
   "id": "d32e669f",
   "metadata": {},
   "outputs": [
    {
     "data": {
      "text/plain": [
       "287.9999999999977"
      ]
     },
     "execution_count": 28,
     "metadata": {},
     "output_type": "execute_result"
    }
   ],
   "source": [
    "np.linalg.det(matrix1)\n"
   ]
  },
  {
   "cell_type": "code",
   "execution_count": null,
   "id": "acf512ec",
   "metadata": {},
   "outputs": [],
   "source": []
  }
 ],
 "metadata": {
  "kernelspec": {
   "display_name": "Python 3 (ipykernel)",
   "language": "python",
   "name": "python3"
  },
  "language_info": {
   "codemirror_mode": {
    "name": "ipython",
    "version": 3
   },
   "file_extension": ".py",
   "mimetype": "text/x-python",
   "name": "python",
   "nbconvert_exporter": "python",
   "pygments_lexer": "ipython3",
   "version": "3.9.12"
  }
 },
 "nbformat": 4,
 "nbformat_minor": 5
}
